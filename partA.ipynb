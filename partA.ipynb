{
 "cells": [
  {
   "cell_type": "code",
   "execution_count": null,
   "id": "6168f84f",
   "metadata": {
    "deletable": false,
    "editable": false
   },
   "outputs": [],
   "source": [
    "# Initialize Otter\n",
    "import otter\n",
    "grader = otter.Notebook(\"partA.ipynb\")"
   ]
  },
  {
   "cell_type": "markdown",
   "id": "f604cf87",
   "metadata": {},
   "source": [
    "# Programming\n",
    "## Overview\n",
    "In this file you will create some static visualizations AND an interactive dashboard\n",
    "It is important to follow the instructions as this file will MOSTLY be autograded.\n",
    "- PART 1 - Standard Static Vis\n",
    "- PART 2 - Standard Static Vis\n",
    "- PART 3 - Novel Visualization\n",
    "- PART 4 - Interactive Dashboard"
   ]
  },
  {
   "cell_type": "code",
   "execution_count": null,
   "id": "931ba996",
   "metadata": {
    "is_executing": true
   },
   "outputs": [],
   "source": [
    "import altair as alt\n",
    "import pandas as pd\n",
    "alt.renderers.enable('default')"
   ]
  },
  {
   "cell_type": "markdown",
   "id": "be15895e",
   "metadata": {},
   "source": [
    "## PART 1 - Standard Static Viz - Bar Chart"
   ]
  },
  {
   "cell_type": "code",
   "execution_count": null,
   "id": "2a6298e9",
   "metadata": {
    "is_executing": true
   },
   "outputs": [],
   "source": [
    "### Read in the Data\n",
    "data1 = pd.read_csv('https://raw.githubusercontent.com/kemiolamudzengi/2023W1-exam/main/part1.csv')\n",
    "data1.head()"
   ]
  },
  {
   "cell_type": "markdown",
   "id": "057d88de",
   "metadata": {},
   "source": [
    "\n",
    "<div class=\"alert alert-info\" style=\"color:black\">\n",
    "\n",
    "- Using the dataframe `data1`, Create the bar chart as depicted, we have provided some specs you might miss\n",
    "- Using the `bar` mark\n",
    "    - with a size of 16,\n",
    "    - grey stroke,\n",
    "    - strokeWidth of 1 and\n",
    "    - cornerRadiusEnd of 8\n",
    "- The height of each viz is 300, the width is 650\n",
    "- `x` channel encodes 'State', `y` channel encodes 'Capacity', `color` channel encodes 'Region'\n",
    "- The color scheme is set3\n",
    "- Size of the viz title must be 24\n",
    "- Legend title should be renamed to Region of Country\n",
    "- For the x channel tick marks must be removed, as well as grid lines, the label should be oriented as shown\n",
    "- The bars is sorted by the `Swept_Area` attribute.\n",
    "- Name of the chart must be `bar_winds`\n",
    "\n",
    "</div>\n",
    "\n",
    "_Points:_ 10"
   ]
  },
  {
   "cell_type": "code",
   "execution_count": null,
   "id": "2e51d7b9",
   "metadata": {
    "is_executing": true,
    "tags": []
   },
   "outputs": [],
   "source": [
    "\n",
    "bar_winds = ...\n",
    "\n",
    "# Show plot\n",
    "bar_winds"
   ]
  },
  {
   "cell_type": "code",
   "execution_count": null,
   "id": "54ea7198",
   "metadata": {
    "deletable": false,
    "editable": false
   },
   "outputs": [],
   "source": [
    "grader.check(\"q_part1\")"
   ]
  },
  {
   "cell_type": "markdown",
   "id": "53788a9b",
   "metadata": {},
   "source": [
    "## PART 2 - Standard Static Viz - Faceted Density Plots"
   ]
  },
  {
   "cell_type": "code",
   "execution_count": null,
   "id": "a4638880",
   "metadata": {
    "is_executing": true
   },
   "outputs": [],
   "source": [
    "### Read in the data\n",
    "data2 = pd.read_csv('https://raw.githubusercontent.com/kemiolamudzengi/2023W1-exam/main/part2.csv')\n",
    "cut_to_keep = ['Fair', 'Ideal', 'Premium', 'Good']\n",
    "data2 = data2.query(\"cut == @cut_to_keep\")\n",
    "data2.head()"
   ]
  },
  {
   "cell_type": "markdown",
   "id": "219f85fa",
   "metadata": {},
   "source": [
    "<div class=\"alert alert-info\" style=\"color:black\">\n",
    "\n",
    "- Using the dataframe `data2` create the faceted density plots shown, follow the following steps in this order below:\n",
    "- Use transform_filter to only keep items that are of the color `J`, `D`, or `G`\n",
    "- Create a density plot for the data, with the quantitative data being `carat`,\n",
    "- Group it by the `cut` and overlay on top of each other\n",
    "- Make sure the x scale is between 0 and 3\n",
    "- With an opacity of 40%\n",
    "- width is 200 pixels, height is default\n",
    "- Use the Column (NOT FACET OR ROW) and group based on the `color` of the diamond\n",
    "- Adhere to the chart styling shown in the image.\n",
    " </div>\n",
    "\n",
    "_Points:_ 15"
   ]
  },
  {
   "cell_type": "code",
   "execution_count": null,
   "id": "7310a0d3",
   "metadata": {
    "is_executing": true,
    "tags": []
   },
   "outputs": [],
   "source": [
    "dense_diamonds = ...\n",
    "\n",
    "\n",
    "# Show dense_diamonds\n",
    "dense_diamonds"
   ]
  },
  {
   "cell_type": "code",
   "execution_count": null,
   "id": "53b005be",
   "metadata": {
    "deletable": false,
    "editable": false
   },
   "outputs": [],
   "source": [
    "grader.check(\"q_part2\")"
   ]
  },
  {
   "cell_type": "markdown",
   "id": "da4f806d",
   "metadata": {},
   "source": [
    "## PART 3 - Novel Visualization - Altair Fan"
   ]
  },
  {
   "cell_type": "markdown",
   "id": "eee47d3b",
   "metadata": {},
   "source": [
    "### Overview\n",
    "For this question, you have been given sample code (see cell below) AND documentation from Altair's API (see pdf)\n",
    "The sample code is a starting point and provides you with a basis of which mark is being used.\n",
    "\n",
    "Your goal is to create the visualization called Altair Fan\n",
    "Don't panic, while you have never created this before, over the course of the term you have learned how to\n",
    "- create data frames\n",
    "- describe vizzes\n",
    "- read the API and \n",
    "- create visualizations. \n",
    "\n",
    "In this question you get to demonstrate that knowledge."
   ]
  },
  {
   "cell_type": "code",
   "execution_count": null,
   "id": "818e989c",
   "metadata": {
    "is_executing": true
   },
   "outputs": [],
   "source": [
    "# SAMPLE CODE\n",
    "# DO NOT EDIT THIS CELL\n",
    "# LEAVE AS IS\n",
    "# FEEL FREE TO COPY THE CODE INTO THE CELL BELOW AND THEN EDIT THERE\n",
    "\n",
    "source = pd.DataFrame({\"values\": [12, 23, 47, 6, 52, 19]})\n",
    "\n",
    "base = alt.Chart(source).encode(\n",
    "    alt.Theta(\"values:Q\").stack(True),\n",
    "    alt.Radius(\"values\").scale(type=\"sqrt\", zero=True, rangeMin=20),\n",
    "    color=\"values:N\",\n",
    ")\n",
    "\n",
    "c1 = base.mark_arc(innerRadius=20, stroke=\"#fff\")\n",
    "\n",
    "c2 = base.mark_text(radiusOffset=10).encode(text=\"values:Q\")\n",
    "\n",
    "c1 + c2"
   ]
  },
  {
   "cell_type": "markdown",
   "id": "dffb833a",
   "metadata": {},
   "source": [
    "<div class=\"alert alert-info\" style=\"color:black\">\n",
    "\n",
    "- Determine what data is needed\n",
    "- Determine which channels for `mark_arc` need to be encoded\n",
    "- Determine (by reading the documentation) which attributes need to be set. \n",
    "- The width and height are 300 pixels. \n",
    "    - Use Pandas to create a dataframe, your column headings must be\n",
    "    -`values` and `quad`\n",
    "- Your dataframe must be called `data3`\n",
    "- The color scheme is `set2`\n",
    "- Your viz must be called `fan`\n",
    "- HINT - each portion of the fan has 20 slivers (i.e., arcs)\n",
    "    \n",
    " </div>\n",
    "\n",
    "_Points:_ 25"
   ]
  },
  {
   "cell_type": "code",
   "execution_count": null,
   "id": "7f2af168",
   "metadata": {
    "is_executing": true,
    "tags": []
   },
   "outputs": [],
   "source": [
    "# create your dataframe here \n",
    "quad = ...\n",
    "values = ...\n",
    "\n",
    "data3 = ...\n",
    "data3\n"
   ]
  },
  {
   "cell_type": "code",
   "execution_count": null,
   "id": "28f59c1f",
   "metadata": {
    "is_executing": true,
    "tags": []
   },
   "outputs": [],
   "source": [
    "# Create your chart here\n",
    "fan = ...\n",
    "\n",
    "# Show Altair Fan\n",
    "fan\n"
   ]
  },
  {
   "cell_type": "code",
   "execution_count": null,
   "id": "b00cde31",
   "metadata": {
    "deletable": false,
    "editable": false
   },
   "outputs": [],
   "source": [
    "grader.check(\"q_novel\")"
   ]
  },
  {
   "cell_type": "markdown",
   "id": "add4eb51",
   "metadata": {},
   "source": [
    "## PART 4 - Interactive Dashboard"
   ]
  },
  {
   "cell_type": "markdown",
   "id": "e5c12788",
   "metadata": {},
   "source": [
    "## Overview\n",
    "This question is very similar to assquiab part 2 in structure.\n",
    "You will create 3 visualizations, add interaction and place in a dashboard.\n",
    "In this question you demonstrate your understanding of\n",
    "- creating standard visualizations\n",
    "- adding interaction to visualizations\n",
    "- assemblying a dashboard\n",
    "\n",
    "All the viz in this section use the data stored in `data4`"
   ]
  },
  {
   "cell_type": "code",
   "execution_count": null,
   "id": "2ef6ef9a",
   "metadata": {
    "is_executing": true
   },
   "outputs": [],
   "source": [
    "data4 = pd.read_csv('https://raw.githubusercontent.com/kemiolamudzengi/2023W1-exam/main/part4.csv',parse_dates=['Date'])\n",
    "data4.head()"
   ]
  },
  {
   "cell_type": "markdown",
   "id": "d988d1e7",
   "metadata": {},
   "source": [
    "## PART 4 - Question 1\n",
    "<div class=\"alert alert-info\" style=\"color:black\">\n",
    "\n",
    "Your task is to create a scatter chart.\n",
    "The mark_circle should have a default size of 50.\n",
    "The channels should be as follows\n",
    "- y is `Mean_Temp` a quantitative attribute, change the title as shown\n",
    "- x is `Total_Rain`, a quantitative attribute, change the title as shown\n",
    "- color  is `Wind`, use the `tableau10` scheme\n",
    "- The name of the chart is scatter_chart\n",
    "- The size should be width = 300, height = 250\n",
    "</div>\n",
    "\n",
    "_Points:_ 5"
   ]
  },
  {
   "cell_type": "code",
   "execution_count": null,
   "id": "4a4f1527",
   "metadata": {
    "is_executing": true,
    "tags": []
   },
   "outputs": [],
   "source": [
    "scatter_chart = ...\n",
    "\n",
    "\n",
    "# Show the chart\n",
    "scatter_chart\n"
   ]
  },
  {
   "cell_type": "code",
   "execution_count": null,
   "id": "1fede563",
   "metadata": {
    "deletable": false,
    "editable": false
   },
   "outputs": [],
   "source": [
    "grader.check(\"q4_part1\")"
   ]
  },
  {
   "cell_type": "markdown",
   "id": "bddd9360",
   "metadata": {},
   "source": [
    "## PART 4 - Question 2\n",
    "\n",
    "<div class=\"alert alert-info\" style=\"color:black\">\n",
    "\n",
    "Your task is to create a heatmap, using mark_rect\n",
    "The encodings should be as follows\n",
    "- x is `Arb` a quantitative attribute, change the title as shown\n",
    "- y is the month of the Date, change the title as shown\n",
    "- color  is the <b>mean</b> of the `Variation`, use the `greys` scheme\n",
    "- The name of the chart is heatmap\n",
    "- The size should be width = 300, height = 250\n",
    "\n",
    "</div>\n",
    "\n",
    "_Points:_ 5"
   ]
  },
  {
   "cell_type": "code",
   "execution_count": null,
   "id": "1affee1c",
   "metadata": {
    "is_executing": true,
    "tags": []
   },
   "outputs": [],
   "source": [
    "heatmap = ...\n",
    "\n",
    "# Show heatmap\n",
    "\n",
    "heatmap\n"
   ]
  },
  {
   "cell_type": "code",
   "execution_count": null,
   "id": "12b06fec",
   "metadata": {
    "deletable": false,
    "editable": false
   },
   "outputs": [],
   "source": [
    "grader.check(\"q4_part2\")"
   ]
  },
  {
   "cell_type": "markdown",
   "id": "b5668fb0",
   "metadata": {},
   "source": [
    "## PART 4 - Question 3\n",
    "\n",
    "<div class=\"alert alert-info\" style=\"color:black\">\n",
    "\n",
    "Your task is to create an area chart with the following encoding:\n",
    "- y is `Cloudy` a quantitative attribute, change the title as shown\n",
    "- x is `Date`, remove the axis labels and set tick to false\n",
    "- chart properties width is 750 and height is 70\n",
    "- tooltip with Date\n",
    "- the name of the chart is `temporal_base`\n",
    "- The mark should have `purple` as the fill with an opacity of 0.3\n",
    "- Name of the area chart must be temporal_base\n",
    "\n",
    "</div>\n",
    "\n",
    "_Points:_ 10"
   ]
  },
  {
   "cell_type": "code",
   "execution_count": null,
   "id": "fe0b4f4d",
   "metadata": {
    "is_executing": true,
    "tags": []
   },
   "outputs": [],
   "source": [
    "\n",
    "temporal_base = ...\n",
    "\n",
    "# Show the chart\n",
    "temporal_base\n"
   ]
  },
  {
   "cell_type": "code",
   "execution_count": null,
   "id": "43a73134",
   "metadata": {
    "deletable": false,
    "editable": false
   },
   "outputs": [],
   "source": [
    "grader.check(\"q4_part3\")"
   ]
  },
  {
   "cell_type": "markdown",
   "id": "0b5bcf7a",
   "metadata": {},
   "source": [
    "## PART 4 Question 4: Interaction and Dashboard\n",
    "\n",
    "<div class=\"alert alert-info\" style=\"color:black\">\n",
    "\n",
    "\n",
    "1. Create a brush interval, named `time_brush`, constrained to the x, and with empty set to `True`,\n",
    "2. Create a chart called `base` from the temporal_base. Add the `time_brush` as a parameter\n",
    "3. Create a chart called `selected` from base, add `time_brush` using it as a <b>filter</b>, and make sure to have the mark_area have the color of 'purple'.\n",
    "4. Concatenate the `base` and `selected` chart in that order (`base` first, `selected` second) and store in the variable `top`\n",
    "5. Add the time_brush as the filter mechanism for the heatmap\n",
    "6. Add the time_brush as a parameter for the scatter_chart, let the brush serve as `selector` for which circles have a default color of `lightgrey` if not selected, and the Wind color otherwise\n",
    "7. Concatenate the two and store in variable `bottom`\n",
    "8. Concatenate top and bottom and store in variable `dash`, visualize dash\n",
    "\n",
    "</div>\n",
    "\n",
    "\n",
    "_Points:_ 30"
   ]
  },
  {
   "cell_type": "code",
   "execution_count": null,
   "id": "2c9e99e1",
   "metadata": {
    "is_executing": true,
    "tags": []
   },
   "outputs": [],
   "source": [
    "time_brush = ...\n",
    "base = ...\n",
    "selected = ...\n",
    "top = ...\n",
    "\n",
    "bottom = ...\n",
    "\n",
    "dash = ...\n",
    "\n",
    "# SHOW THE DASHBOARD\n",
    "dash"
   ]
  },
  {
   "cell_type": "code",
   "execution_count": null,
   "id": "0fdbcb2c",
   "metadata": {
    "deletable": false,
    "editable": false
   },
   "outputs": [],
   "source": [
    "grader.check(\"q4_part4\")"
   ]
  },
  {
   "cell_type": "markdown",
   "id": "28870b15",
   "metadata": {},
   "source": [
    "<div class=\"alert alert-danger\" style=\"color:black\">\n",
    "\n",
    "**Restart and run all before submitting**\n",
    "\n",
    "Before submitting your notebook.\n",
    "don't forget to run all cells in your notebook\n",
    "to make sure there are no errors\n",
    "and so that the TAs can see your submission on Gradescope.\n",
    "You can do this by clicking the ▶▶ button\n",
    "or going to `Kernel -> Restart Kernel and Run All Cells...` in the menu.\n",
    "This is not only important for DSCI 320,\n",
    "but a good habit you should get into before ever committing a notebook to GitHub,\n",
    "so that your collaborators can run it from top to bottom\n",
    "without issues.\n",
    "</div>"
   ]
  }
 ],
 "metadata": {
  "kernelspec": {
   "display_name": "Python [conda env:otter-env]",
   "language": "python",
   "name": "conda-env-otter-env-py"
  },
  "language_info": {
   "codemirror_mode": {
    "name": "ipython",
    "version": 3
   },
   "file_extension": ".py",
   "mimetype": "text/x-python",
   "name": "python",
   "nbconvert_exporter": "python",
   "pygments_lexer": "ipython3",
   "version": "3.9.16"
  },
  "otter": {
   "OK_FORMAT": true,
   "tests": {
    "q4_part1": {
     "name": "q4_part1",
     "points": 5,
     "suites": [
      {
       "cases": [
        {
         "code": ">>> assert scatter_chart is not None\n>>> assert isinstance(scatter_chart, alt.Chart)\n",
         "failure_message": "Some of your variables have an unexpected name or type",
         "hidden": false,
         "locked": false,
         "points": 0,
         "success_message": "This test only checks that your variables have the correct name and type"
        }
       ],
       "scored": true,
       "setup": "",
       "teardown": "",
       "type": "doctest"
      }
     ]
    },
    "q4_part2": {
     "name": "q4_part2",
     "points": 5,
     "suites": [
      {
       "cases": [
        {
         "code": ">>> assert heatmap is not None\n>>> assert isinstance(heatmap, alt.Chart)\n",
         "failure_message": "Some of your variables have an unexpected name or type",
         "hidden": false,
         "locked": false,
         "points": 0,
         "success_message": "This test only checks that your variables have the correct name and type"
        }
       ],
       "scored": true,
       "setup": "",
       "teardown": "",
       "type": "doctest"
      }
     ]
    },
    "q4_part3": {
     "name": "q4_part3",
     "points": 10,
     "suites": [
      {
       "cases": [
        {
         "code": ">>> assert temporal_base is not None\n>>> assert isinstance(temporal_base, alt.Chart)\n",
         "failure_message": "Some of your variables have an unexpected name or type",
         "hidden": false,
         "locked": false,
         "points": 0,
         "success_message": "This test only checks that your variables have the correct name and type"
        }
       ],
       "scored": true,
       "setup": "",
       "teardown": "",
       "type": "doctest"
      }
     ]
    },
    "q4_part4": {
     "name": "q4_part4",
     "points": 30,
     "suites": [
      {
       "cases": [
        {
         "code": ">>> assert time_brush is not None\n>>> assert base is not None\n>>> assert selected is not None\n>>> assert top is not None\n>>> assert bottom is not None\n>>> assert dash is not None\n",
         "failure_message": "Some of your variables have an unexpected name or type",
         "hidden": false,
         "locked": false,
         "points": 0,
         "success_message": "This test only checks that your variables have the correct name and type"
        }
       ],
       "scored": true,
       "setup": "",
       "teardown": "",
       "type": "doctest"
      }
     ]
    },
    "q_novel": {
     "name": "q_novel",
     "points": 25,
     "suites": [
      {
       "cases": [
        {
         "code": ">>> assert fan is not None\n>>> assert data3 is not None\n>>> assert isinstance(fan, alt.Chart)\n",
         "failure_message": "Some of your variables have an unexpected name or type",
         "hidden": false,
         "locked": false,
         "points": 0,
         "success_message": "This test only checks that your variables have the correct name and type"
        }
       ],
       "scored": true,
       "setup": "",
       "teardown": "",
       "type": "doctest"
      }
     ]
    },
    "q_part1": {
     "name": "q_part1",
     "points": 10,
     "suites": [
      {
       "cases": [
        {
         "code": ">>> assert bar_winds is not None\n>>> assert data1 is not None\n>>> assert isinstance(bar_winds, alt.Chart)\n",
         "failure_message": "Some of your variables have an unexpected name or type",
         "hidden": false,
         "locked": false,
         "points": 0,
         "success_message": "This test only checks that your variables have the correct name and type"
        }
       ],
       "scored": true,
       "setup": "",
       "teardown": "",
       "type": "doctest"
      }
     ]
    },
    "q_part2": {
     "name": "q_part2",
     "points": 15,
     "suites": [
      {
       "cases": [
        {
         "code": ">>> assert dense_diamonds is not None\n>>> assert data2 is not None\n>>> assert isinstance(dense_diamonds, alt.Chart)\n",
         "failure_message": "Some of your variables have an unexpected name or type",
         "hidden": false,
         "locked": false,
         "points": 0,
         "success_message": "This test only checks that your variables have the correct name and type"
        }
       ],
       "scored": true,
       "setup": "",
       "teardown": "",
       "type": "doctest"
      }
     ]
    }
   }
  }
 },
 "nbformat": 4,
 "nbformat_minor": 5
}
